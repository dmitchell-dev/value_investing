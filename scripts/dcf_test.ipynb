{
 "metadata": {
  "language_info": {
   "codemirror_mode": {
    "name": "ipython",
    "version": 3
   },
   "file_extension": ".py",
   "mimetype": "text/x-python",
   "name": "python",
   "nbconvert_exporter": "python",
   "pygments_lexer": "ipython3",
   "version": "3.8.6-final"
  },
  "orig_nbformat": 2,
  "kernelspec": {
   "name": "python3",
   "display_name": "Python 3",
   "language": "python"
  }
 },
 "nbformat": 4,
 "nbformat_minor": 2,
 "cells": [
  {
   "cell_type": "code",
   "execution_count": 1,
   "metadata": {},
   "outputs": [],
   "source": [
    "import numpy as np"
   ]
  },
  {
   "cell_type": "code",
   "execution_count": 2,
   "metadata": {},
   "outputs": [],
   "source": [
    "# Company reports\n",
    "base_year_fcf = 301.40\n",
    "shares_outstanding = 409\n",
    "\n",
    "# Risk factors\n",
    "growth_rate = 0.06\n",
    "longterm_growth_rate = 0.02 # Between 3 & 3%\n",
    "discount_rate = 0.1"
   ]
  },
  {
   "cell_type": "code",
   "execution_count": 3,
   "metadata": {},
   "outputs": [],
   "source": [
    "ten_year_list = np.array([1, 2, 3, 4, 5, 6, 7, 8, 9, 10])"
   ]
  },
  {
   "cell_type": "code",
   "execution_count": 4,
   "metadata": {},
   "outputs": [
    {
     "output_type": "execute_result",
     "data": {
      "text/plain": [
       "2472.4123017826687"
      ]
     },
     "metadata": {},
     "execution_count": 4
    }
   ],
   "source": [
    "fcf = np.sum((base_year_fcf * pow((1 + growth_rate), ten_year_list)) / pow((1 + discount_rate), ten_year_list))\n",
    "fcf"
   ]
  },
  {
   "cell_type": "code",
   "execution_count": 5,
   "metadata": {},
   "outputs": [
    {
     "output_type": "execute_result",
     "data": {
      "text/plain": [
       "2556.809750991671"
      ]
     },
     "metadata": {},
     "execution_count": 5
    }
   ],
   "source": [
    "dpcf = ((base_year_fcf * pow((1 + growth_rate), 11) * (1 + longterm_growth_rate))/(discount_rate - longterm_growth_rate)) * (1 / pow((1 + discount_rate), 11))\n",
    "dpcf"
   ]
  },
  {
   "cell_type": "code",
   "execution_count": 6,
   "metadata": {},
   "outputs": [
    {
     "output_type": "execute_result",
     "data": {
      "text/plain": [
       "5029.222052774339"
      ]
     },
     "metadata": {},
     "execution_count": 6
    }
   ],
   "source": [
    "intrinsic_value = fcf + dpcf\n",
    "intrinsic_value"
   ]
  },
  {
   "cell_type": "code",
   "execution_count": 7,
   "metadata": {},
   "outputs": [
    {
     "output_type": "execute_result",
     "data": {
      "text/plain": [
       "12.296386437101074"
      ]
     },
     "metadata": {},
     "execution_count": 7
    }
   ],
   "source": [
    "intrinsic_value_share = intrinsic_value / shares_outstanding\n",
    "intrinsic_value_share"
   ]
  },
  {
   "cell_type": "code",
   "execution_count": null,
   "metadata": {},
   "outputs": [],
   "source": []
  }
 ]
}
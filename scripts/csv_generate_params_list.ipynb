{
 "metadata": {
  "language_info": {
   "codemirror_mode": {
    "name": "ipython",
    "version": 3
   },
   "file_extension": ".py",
   "mimetype": "text/x-python",
   "name": "python",
   "nbconvert_exporter": "python",
   "pygments_lexer": "ipython3",
   "version": "3.8.6-final"
  },
  "orig_nbformat": 2,
  "kernelspec": {
   "name": "python3",
   "display_name": "Python 3.8.6 64-bit ('venv')",
   "metadata": {
    "interpreter": {
     "hash": "4d9b00e939c5bce69073f7db44438c8024e8e6d13633c4543f229f8fabf85738"
    }
   }
  }
 },
 "nbformat": 4,
 "nbformat_minor": 2,
 "cells": [
  {
   "cell_type": "code",
   "execution_count": 1,
   "metadata": {},
   "outputs": [],
   "source": [
    "import os\n",
    "import pandas as pd"
   ]
  },
  {
   "cell_type": "code",
   "execution_count": 2,
   "metadata": {},
   "outputs": [],
   "source": [
    "path = \"data/company_reports/\"\n",
    "tidm_list = []\n",
    "report_type_list = []\n",
    "param_set_income = set()\n",
    "param_set_balance = set()\n",
    "param_set_cash = set()\n",
    "\n",
    "for files in os.listdir(path):\n",
    "    split_file_name = files.replace('.csv', '').split(\"_\")\n",
    "    company_tidm = split_file_name[1]\n",
    "    company_report_type = split_file_name[2]\n",
    "        \n",
    "    if company_report_type == 'prices':\n",
    "        continue\n",
    "    else:\n",
    "        df = pd.read_csv(f\"{path}{files}\",index_col='Period Ending',skiprows=1)\n",
    "        param_set_indiv = df.index.to_list()\n",
    "\n",
    "\n",
    "    # Populate sets\n",
    "    if company_report_type == 'income':\n",
    "\n",
    "        for param in param_set_indiv:\n",
    "            param_set_income.add(param)\n",
    "            \n",
    "    elif company_report_type == 'balance':\n",
    "\n",
    "        for param in param_set_indiv:\n",
    "            param_set_balance.add(param)\n",
    "\n",
    "    elif company_report_type == 'cash':\n",
    "\n",
    "        for param in param_set_indiv:\n",
    "            param_set_cash.add(param)"
   ]
  },
  {
   "cell_type": "code",
   "execution_count": 3,
   "metadata": {},
   "outputs": [
    {
     "output_type": "stream",
     "name": "stdout",
     "text": [
      "57\nMarket capitalisation\nOperating expenses\nNumber of employees\nInsurance premium income\nProfit for financial year\nDiscontinued post-tax profit\nEBITDA\nAverage shares (adjusted)\nNumber of shares\nDepreciation & amortisation\nEPS (basic)\nEPS rep. discontinued\nPre-tax profit\nFees & commission expense\nEPS norm. continuous\nResearch & development\nResult Type\nInterest income\nAdministrative expenses\nOther income/expense\nTotal income\nCapital asset impairments\nCapital expenditure\nEPS rep. continuous\nDiscontinued operations\nEPS (diluted)\nGross profit\nPost-tax profit\nTax rate %\nOther income\nNon interest income\nEPS reported\nDividend (announced) ps\nRental & lease expense\nExtraordinary items\nDividend (adjusted) ps\nCost of sales\nTaxation\nEnterprise value\nOther expenses\nTotal expenses\nStock based compensation\n \nEBIT\nInterest expense\nCredit risk provision\nOperating profit\nInsurance claims\nInterest paid (net)\nAssociates & joint ventures\nInvestment returns\nOperating profit (standardised)\nTurnover\nMinorities\nNet interest income\nAverage shares (diluted)\nExceptional operating costs\n"
     ]
    }
   ],
   "source": [
    "print(len(param_set_income))\n",
    "for i in param_set_income:\n",
    "    print(i)"
   ]
  },
  {
   "cell_type": "code",
   "execution_count": 4,
   "metadata": {},
   "outputs": [
    {
     "output_type": "stream",
     "name": "stdout",
     "text": [
      "88\nTrading liabilities\nTrading & financial assets\nTotal liabilities\nLong-term borrowing\nGoodwill\nInvestment properties\nDebtors\nNet borrowing\nPension deficit\nPreference shares\nPrepayments\nOther reserves\nOther liabilities\nWorking capital\nFinancial assets for sale\nTreasury shares\nTotal borrowing\nPension assets\nTax assets\nCash balances\nIntangibles\nFinancial lease obligations\nTotal retained profit\nTangibles\nOther non-current assets\nOther non-current liabilities\nDeferred tax\nTotal liabilities + equity\nIntangible assets\nOther current liabilities\nResult Type\nShareholders funds (NAV)\nShare premium\nTax\nCurrent liabilities\nOther financial liabilities\nDerivative financial liabilities\nTotal debt\nLease obligations\nShort term borrowing\nTotal deposits\nNon-current assets\nTotal assets\nOther current assets\nDeposits from banks\nNAV ps\nDebtors trade\nTrade creditors\nNon-current liabilities\nInvestments\nNTAV ps\nStock & WIP\nAdvances from central banks\nNAV\nShare capital\nPension liabilities\nCurrent (<1 year) borrowing\nNTAV\nDeposits from customers\nMinorities\nAccruals\nSecurities\nDebt\nOther borrowed funds\nTrading & other liabilities\nInsurance contracts\nTotal equity\nCash & equivalents\nDeposit certificates\nDebtors other\nDebt securities\nOrdinary shares\nDerivative financial assets\nLong term borrowing\nLoans to banks\nDebtors finance & lease\nPreference consideration\nLong-term leases\nNet loans\nLoans to customers\nTangible assets\nOther intangibles\nOther assets\nCurrent borrowing\nCurrent leases\nCurrent assets\nInsurance funds\nOther provisions\n"
     ]
    }
   ],
   "source": [
    "print(len(param_set_balance))\n",
    "for i in param_set_balance:\n",
    "    print(i)"
   ]
  },
  {
   "cell_type": "code",
   "execution_count": 5,
   "metadata": {},
   "outputs": [
    {
     "output_type": "stream",
     "name": "stdout",
     "text": [
      "60\nSale of businesses\nSale of investment\nOperating cash flow ps\nDeferred tax\nNet cash from operations\nChange in working capital\nTax paid\nDepreciation & amortisation\nSale of investment property\nPreferred dividends paid\nNet cash from financing\nNet change in cash\nForeign exchange adjustments\nFree cash flow for firm (FCFf)\nNet cash from investing\nInterest paid direct\nOther (operating)\nDividends received direct\nOperating cash flow (direct)\nResult Type\nRepayment of leases\nInterest paid\nCapital expenditure\nFree cash flow (FCF)\nDividends from joint ventures\nInterest received CFO\nFCFf ps\nNew leases\nDividends paid direct\nChange in creditors\nInterest received\nDividend paid CFO\nOther in/out flows of cash\nNew borrowing\nDividends paid in cash\nOpening balance\nFCF ps\nInterest received direct\nChange in stock\nDividends paid to minorities\nProfit on disposals\nSale of fixed assets\nRepayment of borrowing\nNew share issues\nPurchase of investment\nOther changes\nDividend received CFO\nShare of associates & JVs\nOther (investing)\nShare buyback\nClosing balance\nInterest paid CFO\nChange in debtors\nNet profit\nEquity dividends paid\nOperating cash flow\nPurchase of investment property\nOther (financing)\nAcquisitions\nCapex ps\n"
     ]
    }
   ],
   "source": [
    "print(len(param_set_cash))\n",
    "for i in param_set_cash:\n",
    "    print(i)"
   ]
  },
  {
   "cell_type": "code",
   "execution_count": null,
   "metadata": {},
   "outputs": [],
   "source": []
  }
 ]
}
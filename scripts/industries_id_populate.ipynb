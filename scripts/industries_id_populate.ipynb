{
 "cells": [
  {
   "cell_type": "code",
   "execution_count": 2,
   "metadata": {},
   "outputs": [],
   "source": [
    "import pandas as pd"
   ]
  },
  {
   "cell_type": "code",
   "execution_count": 3,
   "metadata": {},
   "outputs": [],
   "source": [
    "company_data = pd.read_csv('C://Users//D_R_m//OneDrive//Documents//Development//Django_Python//value_investing//data//database_tables//companies.csv')\n",
    "industry_data = pd.read_csv('C://Users//D_R_m//OneDrive//Documents//Development//Django_Python//value_investing//data//database_tables//industries.csv')"
   ]
  },
  {
   "cell_type": "code",
   "execution_count": 4,
   "metadata": {},
   "outputs": [
    {
     "name": "stdout",
     "output_type": "stream",
     "text": [
      "0                              Biotechnology\n",
      "1         Health Care Equipment and Supplies\n",
      "2                                  Insurance\n",
      "3       Internet and Direct Marketing Retail\n",
      "4                 Food and Staples Retailing\n",
      "                       ...                  \n",
      "70                         Personal Products\n",
      "71       Wireless Telecommunication Services\n",
      "72    Diversified Telecommunication Services\n",
      "73                          Specialty Retail\n",
      "74             Oil, Gas and Consumable Fuels\n",
      "Name: industry_id, Length: 75, dtype: object\n"
     ]
    }
   ],
   "source": [
    "ind_name_list = industry_data['value'].tolist()\n",
    "ind_id_list = industry_data['id'].tolist()\n",
    "\n",
    "company_data_col_updated = company_data['industry_id'].replace(ind_name_list, ind_id_list)\n",
    "\n",
    "print(company_data_col_updated)"
   ]
  }
 ],
 "metadata": {
  "interpreter": {
   "hash": "f3e397ea20cc61d87024f3c0b8b0f1838ac1d6d4cd88bbfcc79db8eaf52cd550"
  },
  "kernelspec": {
   "display_name": "Python 3.8.6 64-bit ('value_investing': venv)",
   "language": "python",
   "name": "python3"
  },
  "language_info": {
   "codemirror_mode": {
    "name": "ipython",
    "version": 3
   },
   "file_extension": ".py",
   "mimetype": "text/x-python",
   "name": "python",
   "nbconvert_exporter": "python",
   "pygments_lexer": "ipython3",
   "version": "3.8.6"
  },
  "orig_nbformat": 4
 },
 "nbformat": 4,
 "nbformat_minor": 2
}

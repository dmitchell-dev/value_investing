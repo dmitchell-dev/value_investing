{
 "metadata": {
  "language_info": {
   "codemirror_mode": {
    "name": "ipython",
    "version": 3
   },
   "file_extension": ".py",
   "mimetype": "text/x-python",
   "name": "python",
   "nbconvert_exporter": "python",
   "pygments_lexer": "ipython3",
   "version": "3.8.3-final"
  },
  "orig_nbformat": 2,
  "kernelspec": {
   "name": "python3",
   "display_name": "Python 3"
  }
 },
 "nbformat": 4,
 "nbformat_minor": 2,
 "cells": [
  {
   "cell_type": "code",
   "execution_count": 16,
   "metadata": {},
   "outputs": [],
   "source": [
    "import pandas as pd"
   ]
  },
  {
   "cell_type": "code",
   "execution_count": 17,
   "metadata": {},
   "outputs": [],
   "source": [
    "df = pd.read_csv('research/industries.csv',index_col='id')"
   ]
  },
  {
   "cell_type": "code",
   "execution_count": 18,
   "metadata": {},
   "outputs": [
    {
     "output_type": "execute_result",
     "data": {
      "text/plain": [
       "     comp_type_id  industry_id  market_id   tidm  \\\n",
       "id                                                 \n",
       "1             1.0         24.0          1    AAL   \n",
       "2             1.0          6.0          1    ABF   \n",
       "3             2.0         10.0          1    ADM   \n",
       "4             1.0         25.0          1    AHT   \n",
       "5             1.0         24.0          1   ANTO   \n",
       "..            ...          ...        ...    ...   \n",
       "96            NaN          NaN          1   ULVR   \n",
       "97            1.0          7.0          1    UU.   \n",
       "98            NaN          NaN          1    VOD   \n",
       "99            1.0         28.0          1    WPP   \n",
       "100           1.0         33.0          1    WTB   \n",
       "\n",
       "                             name  \\\n",
       "id                                  \n",
       "1              Anglo American PLC   \n",
       "2    Associated British Foods PLC   \n",
       "3               Admiral Group PLC   \n",
       "4               Ashtead Group PLC   \n",
       "5                 Antofagasta PLC   \n",
       "..                            ...   \n",
       "96                   Unilever PLC   \n",
       "97     United Utilities Group PLC   \n",
       "98             Vodafone Group PLC   \n",
       "99                  WPP Group PLC   \n",
       "100                 Whitbread PLC   \n",
       "\n",
       "                                               summary  \\\n",
       "id                                                       \n",
       "1    Anglo American's mining portfolio spans many c...   \n",
       "2    Associated British Foods PLC is a diversified ...   \n",
       "3    Admiral Group is a personal lines insurer in t...   \n",
       "4    Ashtead Group PLC is a provider of equipment r...   \n",
       "5    Antofagasta is a Chilean copper mining company...   \n",
       "..                                                 ...   \n",
       "96   Netherlands-based Unilever NV and U.K.-based U...   \n",
       "97   United Utilities Group is primarily a holding ...   \n",
       "98   With about 270 million wireless customers, Vod...   \n",
       "99   Headquartered in the U.K., WPP is the world's ...   \n",
       "100  Whitbread PLC owns hotels and restaurants that...   \n",
       "\n",
       "                                 Unnamed: 7  \n",
       "id                                           \n",
       "1              Industrial Metals and Mining  \n",
       "2                            Food Producers  \n",
       "3                        Non-life Insurance  \n",
       "4                 Industrial Transportation  \n",
       "5              Industrial Metals and Mining  \n",
       "..                                      ...  \n",
       "96   Personal Care, Drug and Grocery Stores  \n",
       "97           Gas, Water and Multi-utilities  \n",
       "98     Telecommunications Service Providers  \n",
       "99                                    Media  \n",
       "100                      Travel and Leisure  \n",
       "\n",
       "[100 rows x 7 columns]"
      ],
      "text/html": "<div>\n<style scoped>\n    .dataframe tbody tr th:only-of-type {\n        vertical-align: middle;\n    }\n\n    .dataframe tbody tr th {\n        vertical-align: top;\n    }\n\n    .dataframe thead th {\n        text-align: right;\n    }\n</style>\n<table border=\"1\" class=\"dataframe\">\n  <thead>\n    <tr style=\"text-align: right;\">\n      <th></th>\n      <th>comp_type_id</th>\n      <th>industry_id</th>\n      <th>market_id</th>\n      <th>tidm</th>\n      <th>name</th>\n      <th>summary</th>\n      <th>Unnamed: 7</th>\n    </tr>\n    <tr>\n      <th>id</th>\n      <th></th>\n      <th></th>\n      <th></th>\n      <th></th>\n      <th></th>\n      <th></th>\n      <th></th>\n    </tr>\n  </thead>\n  <tbody>\n    <tr>\n      <th>1</th>\n      <td>1.0</td>\n      <td>24.0</td>\n      <td>1</td>\n      <td>AAL</td>\n      <td>Anglo American PLC</td>\n      <td>Anglo American's mining portfolio spans many c...</td>\n      <td>Industrial Metals and Mining</td>\n    </tr>\n    <tr>\n      <th>2</th>\n      <td>1.0</td>\n      <td>6.0</td>\n      <td>1</td>\n      <td>ABF</td>\n      <td>Associated British Foods PLC</td>\n      <td>Associated British Foods PLC is a diversified ...</td>\n      <td>Food Producers</td>\n    </tr>\n    <tr>\n      <th>3</th>\n      <td>2.0</td>\n      <td>10.0</td>\n      <td>1</td>\n      <td>ADM</td>\n      <td>Admiral Group PLC</td>\n      <td>Admiral Group is a personal lines insurer in t...</td>\n      <td>Non-life Insurance</td>\n    </tr>\n    <tr>\n      <th>4</th>\n      <td>1.0</td>\n      <td>25.0</td>\n      <td>1</td>\n      <td>AHT</td>\n      <td>Ashtead Group PLC</td>\n      <td>Ashtead Group PLC is a provider of equipment r...</td>\n      <td>Industrial Transportation</td>\n    </tr>\n    <tr>\n      <th>5</th>\n      <td>1.0</td>\n      <td>24.0</td>\n      <td>1</td>\n      <td>ANTO</td>\n      <td>Antofagasta PLC</td>\n      <td>Antofagasta is a Chilean copper mining company...</td>\n      <td>Industrial Metals and Mining</td>\n    </tr>\n    <tr>\n      <th>...</th>\n      <td>...</td>\n      <td>...</td>\n      <td>...</td>\n      <td>...</td>\n      <td>...</td>\n      <td>...</td>\n      <td>...</td>\n    </tr>\n    <tr>\n      <th>96</th>\n      <td>NaN</td>\n      <td>NaN</td>\n      <td>1</td>\n      <td>ULVR</td>\n      <td>Unilever PLC</td>\n      <td>Netherlands-based Unilever NV and U.K.-based U...</td>\n      <td>Personal Care, Drug and Grocery Stores</td>\n    </tr>\n    <tr>\n      <th>97</th>\n      <td>1.0</td>\n      <td>7.0</td>\n      <td>1</td>\n      <td>UU.</td>\n      <td>United Utilities Group PLC</td>\n      <td>United Utilities Group is primarily a holding ...</td>\n      <td>Gas, Water and Multi-utilities</td>\n    </tr>\n    <tr>\n      <th>98</th>\n      <td>NaN</td>\n      <td>NaN</td>\n      <td>1</td>\n      <td>VOD</td>\n      <td>Vodafone Group PLC</td>\n      <td>With about 270 million wireless customers, Vod...</td>\n      <td>Telecommunications Service Providers</td>\n    </tr>\n    <tr>\n      <th>99</th>\n      <td>1.0</td>\n      <td>28.0</td>\n      <td>1</td>\n      <td>WPP</td>\n      <td>WPP Group PLC</td>\n      <td>Headquartered in the U.K., WPP is the world's ...</td>\n      <td>Media</td>\n    </tr>\n    <tr>\n      <th>100</th>\n      <td>1.0</td>\n      <td>33.0</td>\n      <td>1</td>\n      <td>WTB</td>\n      <td>Whitbread PLC</td>\n      <td>Whitbread PLC owns hotels and restaurants that...</td>\n      <td>Travel and Leisure</td>\n    </tr>\n  </tbody>\n</table>\n<p>100 rows × 7 columns</p>\n</div>"
     },
     "metadata": {},
     "execution_count": 18
    }
   ],
   "source": [
    "df"
   ]
  },
  {
   "cell_type": "code",
   "execution_count": 19,
   "metadata": {},
   "outputs": [],
   "source": [
    "idx = df['comp_type_id'].isnull()"
   ]
  },
  {
   "cell_type": "code",
   "execution_count": 20,
   "metadata": {},
   "outputs": [],
   "source": [
    "df2 = df[idx]"
   ]
  },
  {
   "cell_type": "code",
   "execution_count": 21,
   "metadata": {},
   "outputs": [],
   "source": [
    "industries = df2['Unnamed: 7'].unique()"
   ]
  },
  {
   "cell_type": "code",
   "execution_count": 22,
   "metadata": {},
   "outputs": [
    {
     "output_type": "stream",
     "name": "stdout",
     "text": [
      "Retailers\nNon-Renewable Energy\nTelecommunications Service Providers\nConsumer Services\nIndustrial Support Services\nPrecious Metals and Mining\nInvestment Banking and Brokerage Services\nIndustrial Materials\nPersonal Care, Drug and Grocery Stores\nClosed End Investments\nMedical Equipment and Services\n"
     ]
    }
   ],
   "source": [
    "for name in industries:\n",
    "    print(name)"
   ]
  },
  {
   "cell_type": "code",
   "execution_count": null,
   "metadata": {},
   "outputs": [],
   "source": []
  }
 ]
}